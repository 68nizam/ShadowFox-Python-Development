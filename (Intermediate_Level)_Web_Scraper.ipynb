{
  "nbformat": 4,
  "nbformat_minor": 0,
  "metadata": {
    "colab": {
      "provenance": [],
      "authorship_tag": "ABX9TyMBCoiui/9N2uB7/6sHHoGp",
      "include_colab_link": true
    },
    "kernelspec": {
      "name": "python3",
      "display_name": "Python 3"
    },
    "language_info": {
      "name": "python"
    }
  },
  "cells": [
    {
      "cell_type": "markdown",
      "metadata": {
        "id": "view-in-github",
        "colab_type": "text"
      },
      "source": [
        "<a href=\"https://colab.research.google.com/github/68nizam/ShadowFox-Python-Development/blob/main/(Intermediate_Level)_Web_Scraper.ipynb\" target=\"_parent\"><img src=\"https://colab.research.google.com/assets/colab-badge.svg\" alt=\"Open In Colab\"/></a>"
      ]
    },
    {
      "cell_type": "markdown",
      "source": [
        "1) Web Scraper: Extract data from websites using libraries like\n",
        "Beautiful Soup or Scrapy."
      ],
      "metadata": {
        "id": "E0Kwv0s9608-"
      }
    },
    {
      "cell_type": "code",
      "source": [
        "import requests\n",
        "from bs4 import BeautifulSoup\n",
        "\n",
        "# URL of the Wikipedia page for CSK Squad 2024\n",
        "url = \"https://en.wikipedia.org/wiki/2024_Chennai_Super_Kings_season\"\n",
        "\n",
        "# Step 1: Send a GET request to the Wikipedia URL\n",
        "response = requests.get(url)\n",
        "\n",
        "# Step 2: Check if the page was fetched successfully (status code 200)\n",
        "if response.status_code == 200:\n",
        "    print(\"Page fetched successfully!\")\n",
        "else:\n",
        "    print(f\"Failed to fetch page. Status code: {response.status_code}\")\n",
        "\n",
        "# Step 3: Extract the HTML content of the page\n",
        "html_content = response.text\n",
        "\n",
        "# Step 4: Parse the HTML content using BeautifulSoup\n",
        "soup = BeautifulSoup(html_content, \"html.parser\")\n",
        "\n",
        "# Step 5: Find the relevant section for the squad\n",
        "# This can vary depending on how the page is structured. Here is a common way to find a table.\n",
        "players_table = soup.find('table', {'class': 'wikitable'})\n",
        "\n",
        "# Step 6: Extract player names from the table\n",
        "player_names = []\n",
        "\n",
        "if players_table:\n",
        "    for row in players_table.find_all('tr')[1:]:  # Skip the header row\n",
        "        cols = row.find_all('td')\n",
        "        if len(cols) > 1:  # Check if there are enough columns\n",
        "            player_name = cols[1].get_text(strip=True)  # Assuming player names are in the second column\n",
        "            player_names.append(player_name)\n",
        "\n",
        "# Step 7: Print the player names extracted\n",
        "if player_names:\n",
        "    print(\"CSK Team Players (2024):\")\n",
        "    for name in player_names:\n",
        "        print(name)\n",
        "else:\n",
        "    print(\"No player names found.\")\n"
      ],
      "metadata": {
        "colab": {
          "base_uri": "https://localhost:8080/"
        },
        "id": "ljEmwo_x_uzu",
        "outputId": "e48d2d21-8bd9-4397-e4c1-c2245f9abaf3"
      },
      "execution_count": null,
      "outputs": [
        {
          "output_type": "stream",
          "name": "stdout",
          "text": [
            "Page fetched successfully!\n",
            "CSK Team Players (2024):\n",
            "Ruturaj Gaikwad\n",
            "Ajinkya Rahane\n",
            "Shaik Rasheed\n",
            "Sameer Rizvi\n",
            "MS Dhoni\n",
            "Devon Conway\n",
            "Aravelly Avanish Rao\n",
            "Moeen Ali\n",
            "Shivam Dube\n",
            "Rajvardhan Hangargekar\n",
            "Ravindra Jadeja\n",
            "Ajay Mandal\n",
            "Daryl Mitchell\n",
            "Rachin Ravindra\n",
            "Mitchell Santner\n",
            "Nishant Sindhu\n",
            "Deepak Chahar\n",
            "Mukesh Choudhary\n",
            "Tushar Deshpande\n",
            "Matheesha Pathirana\n",
            "Mustafizur Rahman\n",
            "Simarjeet Singh\n",
            "Shardul Thakur\n",
            "Richard Gleeson\n",
            "Prashant Solanki\n",
            "Maheesh Theekshana\n"
          ]
        }
      ]
    }
  ]
}