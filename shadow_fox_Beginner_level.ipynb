{
  "nbformat": 4,
  "nbformat_minor": 0,
  "metadata": {
    "colab": {
      "provenance": [],
      "authorship_tag": "ABX9TyPdJty+XaxRXFK7p9SPtfne",
      "include_colab_link": true
    },
    "kernelspec": {
      "name": "python3",
      "display_name": "Python 3"
    },
    "language_info": {
      "name": "python"
    }
  },
  "cells": [
    {
      "cell_type": "markdown",
      "metadata": {
        "id": "view-in-github",
        "colab_type": "text"
      },
      "source": [
        "<a href=\"https://colab.research.google.com/github/68nizam/ShadowFox-Python-Development/blob/main/shadow_fox_Beginner_level.ipynb\" target=\"_parent\"><img src=\"https://colab.research.google.com/assets/colab-badge.svg\" alt=\"Open In Colab\"/></a>"
      ]
    },
    {
      "cell_type": "markdown",
      "source": [
        "**Task Level (Beginner):**\n",
        "\n",
        "1. **Variables**:\n",
        "\n",
        "\n",
        "1. Create a variable named pi and store the value 22/7 in it.\n",
        "Now check the data type of this variable.\n",
        "2. Create a variable called for and assign it a value 4. See what\n",
        "happens and find out the reason behind the behavior that you see.\n",
        "3. Store the principal amount, rate of interest, and time in\n",
        "different variables and then calculate the Simple Interest for 3\n",
        "years. Formula: Simple Interest = P x R x T / 100"
      ],
      "metadata": {
        "id": "uTi4sCvzmIef"
      }
    },
    {
      "cell_type": "code",
      "execution_count": null,
      "metadata": {
        "colab": {
          "base_uri": "https://localhost:8080/"
        },
        "id": "lhXNgqwLdBtZ",
        "outputId": "52f3aebd-e928-47ce-d7ff-19d78fb075ef"
      },
      "outputs": [
        {
          "output_type": "stream",
          "name": "stdout",
          "text": [
            "Value of pi:3.142857142857143\n",
            "Data type of pi:<class 'float'>\n"
          ]
        }
      ],
      "source": [
        "pi=22/7\n",
        "print(f\"Value of pi:{pi}\")\n",
        "print(f\"Data type of pi:{type(pi)}\")"
      ]
    },
    {
      "cell_type": "code",
      "source": [
        "for_value=4\n",
        "print(f\"Value of the variable 'for_value':{for_value}\")"
      ],
      "metadata": {
        "colab": {
          "base_uri": "https://localhost:8080/"
        },
        "id": "-buVponKeSUo",
        "outputId": "557ffa46-853e-4f7d-dedf-3efd455e7e82"
      },
      "execution_count": null,
      "outputs": [
        {
          "output_type": "stream",
          "name": "stdout",
          "text": [
            "Value of the variable 'for_value':4\n"
          ]
        }
      ]
    },
    {
      "cell_type": "code",
      "source": [
        "principal=1000\n",
        "rate_of_insterest=5\n",
        "time_period=3\n",
        "simple_interest=(principal*rate_of_insterest*time_period)/100\n",
        "print(f\"Simple Intersest for {time_period}years:{simple_interest}\")"
      ],
      "metadata": {
        "colab": {
          "base_uri": "https://localhost:8080/"
        },
        "id": "io08M5gJe4Qp",
        "outputId": "7fd8ed5d-455c-440c-ca15-d388acb090e1"
      },
      "execution_count": null,
      "outputs": [
        {
          "output_type": "stream",
          "name": "stdout",
          "text": [
            "Simple Intersest for 3years:150.0\n"
          ]
        }
      ]
    },
    {
      "cell_type": "markdown",
      "source": [
        "2). Numbers\n",
        "\n",
        "1. Write a function that takes two arguments, 145 and 'o', and uses the `format` function to return a formatted string. Print the result. Try to identify the representation used.\n",
        "2. In a village, there is a circular pond with a radius of 84 meters. Calculate the area of the pond using the formula: Circle Area = π\n",
        "r^2. (Use the value 3.14 for π) Bonus Question: If there is exactly 1.4 liters of water in a square meter, what is the total amount of\n",
        "water in the pond? Print the answer without any decimal point in it.\n",
        "Hint: Circle Area = π r^2 Water in the pond = Pond Area Water per Square Meter\n",
        "3. If you cross a 490meterlong street in 7 minutes, calculate your\n",
        "speed in meters per second. Print the answer without any decimal point in it.\n",
        "Hint: Speed = Distance / Time\n"
      ],
      "metadata": {
        "id": "OzIbYhLOkrbl"
      }
    },
    {
      "cell_type": "code",
      "source": [
        "def format_as_octal(number):\n",
        "  return format(number,'o')\n",
        "result=format_as_octal(145)\n",
        "print(\"Octal representation of 145 is:\",result)"
      ],
      "metadata": {
        "colab": {
          "base_uri": "https://localhost:8080/"
        },
        "id": "GFDCHXsNgSxO",
        "outputId": "c89d65d2-bbad-4378-cf3c-595e49bebf03"
      },
      "execution_count": null,
      "outputs": [
        {
          "output_type": "stream",
          "name": "stdout",
          "text": [
            "Octal representation of 145 is: 221\n"
          ]
        }
      ]
    },
    {
      "cell_type": "code",
      "source": [
        "def pond_area_and_water(radius):\n",
        "  pi=3.14\n",
        "  area=pi*radius**2\n",
        "  water_per_sq_meter=1.4\n",
        "  total_water=int(area*water_per_sq_meter)\n",
        "  return total_water\n",
        "total_water_in_pond=pond_area_and_water(84)\n",
        "print(\"Total water in the pond(liters):\",total_water_in_pond)"
      ],
      "metadata": {
        "colab": {
          "base_uri": "https://localhost:8080/"
        },
        "id": "baVeUNUzhEc3",
        "outputId": "093dc2f8-b2a6-430d-fdaf-5f4bd94185c8"
      },
      "execution_count": null,
      "outputs": [
        {
          "output_type": "stream",
          "name": "stdout",
          "text": [
            "Total water in the pond(liters): 31018\n"
          ]
        }
      ]
    },
    {
      "cell_type": "code",
      "source": [
        "def calculate_speed(distance,time_minutes):\n",
        "  time_seconds=time_minutes*60\n",
        "  speed=int(distance/time_seconds)\n",
        "  return speed\n",
        "speed=calculate_speed(490,7)\n",
        "print(\"speed in meters per second:\",speed)"
      ],
      "metadata": {
        "colab": {
          "base_uri": "https://localhost:8080/"
        },
        "id": "m6__1ElOiAon",
        "outputId": "efeb4027-a1b7-4463-ed2d-957a59f826f6"
      },
      "execution_count": null,
      "outputs": [
        {
          "output_type": "stream",
          "name": "stdout",
          "text": [
            "speed in meters per second: 1\n"
          ]
        }
      ]
    },
    {
      "cell_type": "markdown",
      "source": [
        "3. List\n",
        "\n",
        "\n",
        "1. You have a list of superheroes representing the Justice\n",
        "League. justice_league = [\"Superman\",\"Batman\",\"WonderWoman\",\"Flash\",\"Aquaman\",\"Green Lantern\"]\n",
        "\n",
        "Perform the following tasks:\n",
        "1. Calculate the number of members in the Justice League.\n",
        "2. Batman recruited Batgirl and Nightwing as new members. Add them to your list.\n",
        "3. Wonder Woman is now the leader of the Justice League. Move her to the beginning of the list.\n",
        "4. Aquaman and Flash are having conflicts, and you need to\n",
        "separate them. Choose either \"Green Lantern\" or \"Superman\" and move them in between Aquaman and Flash.\n",
        "5. The Justice League faced a crisis, and Superman decided to assemble a new team. Replace the existing list with the following\n",
        "new members: \"Cyborg\",\"Shazam\",\"Hawkgirl\",\"MartianManhunter\",\"Green Arrow\".\n",
        "6. Sort the Justice League alphabetically. The hero at the 0th\n",
        "index will become the new leader.\n",
        "(BONUS: Can you predict who the new leader will be?)\n",
        "Your task is to write Python code to perform these operations on\n",
        "the \"justice_league\" list. Display the list at each step to observe\n",
        "the changes."
      ],
      "metadata": {
        "id": "b1MrmX1vjvhm"
      }
    },
    {
      "cell_type": "code",
      "source": [
        "justice_league = [\"Superman\",\"Batman\",\"Wonder Woman\",\"Flash\", \"Aquaman\",\"Green Lantern\"]\n",
        "\n",
        "num_members=len(justice_league)\n",
        "print(f\"1. Number of Justice League members:{num_members}\")\n",
        "print(f\"Justice League:{justice_league}\\n\")\n",
        "justice_league.append(\"Batgirl\")\n",
        "justice_league.append(\"Nightwing\")\n",
        "print(f\"2.After adding Batgirl and Nightwing:{justice_league}\\n\")\n",
        "justice_league.remove(\"Wonder Woman\")\n",
        "justice_league.insert(0,\"Wonder Woman\")\n",
        "print(f\"3. Wonder Woman is now the leader:{justice_league}\\n\")\n",
        "justice_league.remove(\"Green Lantern\")\n",
        "flash_index=justice_league.index(\"Flash\")\n",
        "justice_league.insert(flash_index,\"Green Lantern\")\n",
        "print(f\"4. After moving Green Lantern between Aquaman and Flash:{justice_league}\\n\")\n",
        "justice_league=[\"Cyborg\",\"Shazam\",\"Hawkgirl\",\"Martian Manhunter\",\"Green Arrow\"]\n",
        "print(f\"5. New team after Superman assembled a new justice League:{justice_league}\\n\")\n",
        "justice_league.sort()\n",
        "new_leader=justice_league[0]\n",
        "print(f\"6. Justice League sorted alphabetically:{justice_league}\")\n",
        "print(f\"New leader:{new_leader}\")"
      ],
      "metadata": {
        "colab": {
          "base_uri": "https://localhost:8080/"
        },
        "id": "Q3kjkv4JkiMY",
        "outputId": "034a3f95-14cb-4ace-956d-eb7b2428c9de"
      },
      "execution_count": null,
      "outputs": [
        {
          "output_type": "stream",
          "name": "stdout",
          "text": [
            "1. Number of Justice League members:6\n",
            "Justice League:['Superman', 'Batman', 'Wonder Woman', 'Flash', 'Aquaman', 'Green Lantern']\n",
            "\n",
            "2.After adding Batgirl and Nightwing:['Superman', 'Batman', 'Wonder Woman', 'Flash', 'Aquaman', 'Green Lantern', 'Batgirl', 'Nightwing']\n",
            "\n",
            "3. Wonder Woman is now the leader:['Wonder Woman', 'Superman', 'Batman', 'Flash', 'Aquaman', 'Green Lantern', 'Batgirl', 'Nightwing']\n",
            "\n",
            "4. After moving Green Lantern between Aquaman and Flash:['Wonder Woman', 'Superman', 'Batman', 'Green Lantern', 'Flash', 'Aquaman', 'Batgirl', 'Nightwing']\n",
            "\n",
            "5. New team after Superman assembled a new justice League:['Cyborg', 'Shazam', 'Hawkgirl', 'Martian Manhunter', 'Green Arrow']\n",
            "\n",
            "6. Justice League sorted alphabetically:['Cyborg', 'Green Arrow', 'Hawkgirl', 'Martian Manhunter', 'Shazam']\n",
            "New leader:Cyborg\n"
          ]
        }
      ]
    },
    {
      "cell_type": "markdown",
      "source": [
        "4. If Condition\n",
        "\n",
        "\n",
        "\n",
        "1. Write a program to determine the BMI Category based on user input.\n",
        "Ask the user to:\n",
        "Enter height in meters\n",
        "Enter weight in kilograms\n",
        "Calculate BMI using the formula: BMI = weight / (height)2\n",
        "Use the following categories:\n",
        "If BMI is 30 or greater, print \"Obesity\"\n",
        "If BMI is between 25 and 29, print \"Overweight\"\n",
        "If BMI is between 18.5 and 25, print \"Normal\"\n",
        "If BMI is less than 18.5, print \"Underweight\"\n",
        "Example:\n",
        "Enter height in meters: 1.75\n",
        "Enter weight in kilograms: 70\n",
        "Output: \"Normal\"\n",
        "\n",
        "2. Write a program to determine which country a city belongs to. Given\n",
        "list of cities per country:\n",
        "Australia = [\"Sydney\"\n",
        ",\n",
        "\"Melbourne\"\n",
        ",\n",
        "\"Brisbane\"\n",
        ",\n",
        "\"Perth\"]\n",
        "\n",
        "UAE = [\"Dubai\"\n",
        ",\n",
        "\"Abu Dhabi\"\n",
        ",\n",
        "\"Sharjah\"\n",
        ",\n",
        "\"Ajman\"]\n",
        "\n",
        "India = [\"Mumbai\"\n",
        ",\n",
        "\"Bangalore\"\n",
        ",\n",
        "\"Chennai\"\n",
        ",\n",
        "\"Delhi\"]\n",
        "\n",
        "Ask the user to enter a city name and print the corresponding country.\n",
        "\n",
        "Example:\n",
        "\n",
        "Enter a city name: \"Abu Dhabi\"\n",
        "Output: \"Abu Dhabi is in UAE\""
      ],
      "metadata": {
        "id": "CFrzLQ-erHeQ"
      }
    },
    {
      "cell_type": "code",
      "source": [
        "australia = [\"sydney\", \"melbourne\", \"brisbane\", \"perth\"]\n",
        "uae = [\"dubai\", \"abu dhabi\", \"sharjah\", \"ajman\"]\n",
        "india = [\"mumbai\", \"bangalore\", \"chennai\", \"delhi\"]\n",
        "\n",
        "city1 = input(\"Enter the first city: \").lower()\n",
        "city2 = input(\"Enter the second city: \").lower()\n",
        "\n",
        "def get_country(city):\n",
        "    if city in australia:\n",
        "        return \"Australia\"\n",
        "    elif city in uae:\n",
        "        return \"UAE\"\n",
        "    elif city in india:\n",
        "        return \"India\"\n",
        "    else:\n",
        "        return \"Unknown\"\n",
        "\n",
        "# These lines should be outside the function\n",
        "country1 = get_country(city1)\n",
        "country2 = get_country(city2)\n",
        "\n",
        "if country1 == country2 and country1 != \"Unknown\":\n",
        "    print(f\"Both cities are in {country1}\")\n",
        "else:\n",
        "    print(\"They don't belong to the same country\")\n"
      ],
      "metadata": {
        "colab": {
          "base_uri": "https://localhost:8080/"
        },
        "id": "yPYM71Fm530M",
        "outputId": "4de3017f-6744-4820-d50b-6d44cad80eb6"
      },
      "execution_count": null,
      "outputs": [
        {
          "output_type": "stream",
          "name": "stdout",
          "text": [
            "Enter the first city: Mumbai\n",
            "Enter the second city: Chennai\n",
            "Both cities are in India\n"
          ]
        }
      ]
    },
    {
      "cell_type": "markdown",
      "source": [
        "8. Classes and Objects:\n",
        "\n",
        "\n",
        "1.Avengers is a Marvel’s American Superheroes team, Now you want to\n",
        "showcase your programming skills by representing the Avengers team using\n",
        "classes. Create a class called Avenger and create these six superheroes using this\n",
        "class.\n",
        "2. super_heroes = [\"Captain America\", \"Iron Man\", \"Black Widow\", \"Hulk\",\n",
        "\"Thor\", \"Hawkeye\"]\n",
        "3. Your Avenger class should have these properties:\n",
        "\n",
        "\n",
        "1. Name\n",
        "2. Age\n",
        "3. Gender\n",
        "4. Super Power\n",
        "5. Weapon\n",
        "\n",
        "\n",
        "4. Captain America has Super strength, Iron Man has Technology, Black Widow\n",
        "is superhuman, Hulk has Unlimited Strength, Thor has super Energy and\n",
        "Hawkeye has fighting skills as superpowers.\n",
        "5. Weapons: Shield, Armor, Batons, No Weapon for hulk, Mjölnir, Bow, and\n",
        "Arrows\n",
        "6. Create methods to get the information about each superhero\n",
        "7. Create a method is_leader() which will tell if the superhero is a leader or not."
      ],
      "metadata": {
        "id": "S43CSbsUBDox"
      }
    },
    {
      "cell_type": "code",
      "source": [
        "class Avenger:\n",
        "    def __init__(self, name, age, gender, super_power, weapon):\n",
        "        self.name = name\n",
        "        self.age = age\n",
        "        self.gender = gender\n",
        "        self.super_power = super_power\n",
        "        self.weapon = weapon\n",
        "\n",
        "    def get_info(self):\n",
        "        return (f\"Name: {self.name}\\n\"\n",
        "                f\"Age: {self.age}\\n\"\n",
        "                f\"Super Power: {self.super_power}\\n\"\n",
        "                f\"Weapon: {self.weapon}\")\n",
        "\n",
        "    def is_leader(self):\n",
        "        return self.name == \"Captain America\"\n",
        "\n",
        "# List of superheroes\n",
        "super_heroes = [\n",
        "    Avenger(\"Captain America\", 100, \"Male\", \"Super Strength\", \"Shield\"),\n",
        "    Avenger(\"Iron Man\", 48, \"Male\", \"Technology\", \"Armor\"),\n",
        "    Avenger(\"Black Widow\", 35, \"Female\", \"Superhuman\", \"Batons\"),\n",
        "    Avenger(\"Hulk\", 50, \"Male\", \"Unlimited Strength\", \"No Weapon\"),\n",
        "    Avenger(\"Thor\", 1000, \"Male\", \"Super Energy\", \"Mjolnir\"),\n",
        "    Avenger(\"Hawkeye\", 45, \"Male\", \"Fighting Skills\", \"Bow and Arrows\")\n",
        "]\n",
        "\n",
        "# Printing information about each superhero\n",
        "for hero in super_heroes:\n",
        "    print(hero.get_info())\n",
        "    print(\"Is Leader:\", hero.is_leader())\n",
        "    print(\"-\" * 40)\n"
      ],
      "metadata": {
        "id": "HrKH2UqoBPwo",
        "colab": {
          "base_uri": "https://localhost:8080/"
        },
        "outputId": "45f0debd-fa01-432a-e927-245f31c6ea36"
      },
      "execution_count": null,
      "outputs": [
        {
          "output_type": "stream",
          "name": "stdout",
          "text": [
            "Name: Captain America\n",
            "Age: 100\n",
            "Super Power: Super Strength\n",
            "Weapon: Shield\n",
            "Is Leader: True\n",
            "----------------------------------------\n",
            "Name: Iron Man\n",
            "Age: 48\n",
            "Super Power: Technology\n",
            "Weapon: Armor\n",
            "Is Leader: False\n",
            "----------------------------------------\n",
            "Name: Black Widow\n",
            "Age: 35\n",
            "Super Power: Superhuman\n",
            "Weapon: Batons\n",
            "Is Leader: False\n",
            "----------------------------------------\n",
            "Name: Hulk\n",
            "Age: 50\n",
            "Super Power: Unlimited Strength\n",
            "Weapon: No Weapon\n",
            "Is Leader: False\n",
            "----------------------------------------\n",
            "Name: Thor\n",
            "Age: 1000\n",
            "Super Power: Super Energy\n",
            "Weapon: Mjolnir\n",
            "Is Leader: False\n",
            "----------------------------------------\n",
            "Name: Hawkeye\n",
            "Age: 45\n",
            "Super Power: Fighting Skills\n",
            "Weapon: Bow and Arrows\n",
            "Is Leader: False\n",
            "----------------------------------------\n"
          ]
        }
      ]
    }
  ]
}