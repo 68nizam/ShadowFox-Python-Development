{
  "cells": [
    {
      "cell_type": "markdown",
      "metadata": {
        "id": "view-in-github",
        "colab_type": "text"
      },
      "source": [
        "<a href=\"https://colab.research.google.com/github/68nizam/ShadowFox-Python-Development/blob/main/(Intermediate_Level)_Hangman.ipynb\" target=\"_parent\"><img src=\"https://colab.research.google.com/assets/colab-badge.svg\" alt=\"Open In Colab\"/></a>"
      ]
    },
    {
      "cell_type": "markdown",
      "metadata": {
        "id": "V6NoCiIHAwlR"
      },
      "source": [
        "Implement the wordguessing game with visual\n",
        "progress and hints."
      ]
    },
    {
      "cell_type": "code",
      "execution_count": null,
      "metadata": {
        "colab": {
          "base_uri": "https://localhost:8080/"
        },
        "id": "3QAzRP0mAlJC",
        "outputId": "35a167a4-4f59-4bdb-d213-42ecf0988dde"
      },
      "outputs": [
        {
          "output_type": "stream",
          "name": "stdout",
          "text": [
            "['n', 'l', 'b', 'r', 'e']\n",
            "Guess the Word..?\n",
            "e\n",
            "Guess Again..\n",
            "r\n",
            "['-', '-', '-', 'r', '-']\n",
            "Guess Again..\n",
            "b\n",
            "['-', '-', 'b', 'r', '-']\n",
            "Guess Again..\n",
            "n\n",
            "['n', '-', 'b', 'r', '-']\n",
            "Guess Again..\n",
            "b\n",
            "['n', '-', 'b', 'r', '-']\n",
            "Guess Again..\n",
            "e\n",
            "['n', '-', 'b', 'r', 'e']\n"
          ]
        }
      ],
      "source": [
        "import random as rd\n",
        "x=\"abcdefghijklmnopqrstuvwxyz\"\n",
        "\n",
        "#r=rd.randint(0,len(x)-1)\n",
        "guess=[]\n",
        "for i in range(0,5):\n",
        "  r=rd.randint(0,len(x)-1)\n",
        "  guess.append(x[r])\n",
        "print(guess)\n",
        "x=0\n",
        "y=[]\n",
        "for i in range(0,len(guess)):\n",
        "  y.append(\"-\")\n",
        "\n",
        "def display():\n",
        "  try:\n",
        "    x=input(\"Guess the Word..?\\n\")\n",
        "    while i in range(1,len(guess)):\n",
        "      if len(x)!=1:\n",
        "        print(\"Only one character allowed\")\n",
        "        break\n",
        "      if x in guess:\n",
        "        for j in range(0,len(guess)):\n",
        "          x=input(\"Guess Again..\\n\")\n",
        "          if guess.index(x)==guess.index(x):\n",
        "            y[guess.index(x)]=x\n",
        "          print(y)\n",
        "        break\n",
        "\n",
        "  except Exception as e:\n",
        "      print(e)\n",
        "display()"
      ]
    }
  ],
  "metadata": {
    "colab": {
      "provenance": [],
      "authorship_tag": "ABX9TyNjg5ZFaXaNKOzZauQnOCyk",
      "include_colab_link": true
    },
    "kernelspec": {
      "display_name": "Python 3",
      "name": "python3"
    },
    "language_info": {
      "name": "python"
    }
  },
  "nbformat": 4,
  "nbformat_minor": 0
}